{
 "cells": [
  {
   "cell_type": "code",
   "execution_count": null,
   "id": "70039654-e4d8-4488-a0bd-0ab45a822e23",
   "metadata": {},
   "outputs": [],
   "source": [
    "using ResComp"
   ]
  },
  {
   "cell_type": "code",
   "execution_count": null,
   "id": "5d6c17a6",
   "metadata": {},
   "outputs": [],
   "source": []
  }
 ],
 "metadata": {
  "kernelspec": {
   "display_name": "Julia 1.7.1",
   "language": "julia",
   "name": "julia-1.7"
  },
  "language_info": {
   "file_extension": ".jl",
   "mimetype": "application/julia",
   "name": "julia",
   "version": "1.7.1"
  }
 },
 "nbformat": 4,
 "nbformat_minor": 5
}
